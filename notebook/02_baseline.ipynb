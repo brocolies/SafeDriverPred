{
 "cells": [
  {
   "cell_type": "code",
   "execution_count": 2,
   "id": "127eeeb1-d156-4eaf-8960-d3583e5b7984",
   "metadata": {},
   "outputs": [],
   "source": [
    "import sys\n",
    "import os\n",
    "sys.path.append(os.path.abspath('..'))  # Add project root to Python path\n",
    "import pandas as pd\n",
    "import numpy as np\n",
    "import seaborn as sns\n",
    "import matplotlib.pyplot as plt\n",
    "from src.utils import *\n",
    "from src.features import *\n",
    "from sklearn.model_selection import StratifiedKFold\n",
    "from sklearn.preprocessing import OneHotEncoder\n",
    "from sklearn.compose import make_column_transformer\n",
    "from lightgbm import LGBMClassifier\n",
    "from sklearn.pipeline import make_pipeline"
   ]
  },
  {
   "cell_type": "code",
   "execution_count": 3,
   "id": "6f082ca7-f3c3-4a29-8ea9-fc52a1c6a9d6",
   "metadata": {},
   "outputs": [],
   "source": [
    "from sklearn.metrics import roc_auc_score\n",
    "\n",
    "def gini_normalized(y_true, y_pred):\n",
    "    return 2 * roc_auc_score(y_true, y_pred) - 1"
   ]
  },
  {
   "cell_type": "code",
   "execution_count": null,
   "id": "f7535d92-ba05-4bec-b899-7a339625b0fa",
   "metadata": {},
   "outputs": [],
   "source": []
  }
 ],
 "metadata": {
  "kernelspec": {
   "display_name": "Python (DriverPred)",
   "language": "python",
   "name": "driverpred"
  },
  "language_info": {
   "codemirror_mode": {
    "name": "ipython",
    "version": 3
   },
   "file_extension": ".py",
   "mimetype": "text/x-python",
   "name": "python",
   "nbconvert_exporter": "python",
   "pygments_lexer": "ipython3",
   "version": "3.10.18"
  }
 },
 "nbformat": 4,
 "nbformat_minor": 5
}
